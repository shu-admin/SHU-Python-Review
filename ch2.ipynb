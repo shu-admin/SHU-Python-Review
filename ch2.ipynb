{
  "nbformat": 4,
  "nbformat_minor": 0,
  "metadata": {
    "colab": {
      "name": "ch2.ipynb",
      "provenance": [],
      "authorship_tag": "ABX9TyPwzekIOQCffYbfqaQKNElc",
      "include_colab_link": true
    },
    "kernelspec": {
      "name": "python3",
      "display_name": "Python 3"
    },
    "language_info": {
      "name": "python"
    }
  },
  "cells": [
    {
      "cell_type": "markdown",
      "metadata": {
        "id": "view-in-github",
        "colab_type": "text"
      },
      "source": [
        "<a href=\"https://colab.research.google.com/github/shu-admin/SHU-Python-Review/blob/main/ch2.ipynb\" target=\"_parent\"><img src=\"https://colab.research.google.com/assets/colab-badge.svg\" alt=\"Open In Colab\"/></a>"
      ]
    },
    {
      "cell_type": "code",
      "metadata": {
        "id": "8fkR0Dchk-uX"
      },
      "source": [
        "l = [1,2,(2,3),[1,2,5],'c']\n",
        "a = l#和l相同\n",
        "b = l[::]#l的副本\n",
        "import copy\n",
        "c = copy.copy(l)#浅拷贝,修改l的子对象，c变，父对象变，c不变\n",
        "d = copy.deepcopy(l)#深拷贝，完全独立于a,修改l的子对象，d不会改变"
      ],
      "execution_count": null,
      "outputs": []
    },
    {
      "cell_type": "code",
      "metadata": {
        "colab": {
          "base_uri": "https://localhost:8080/"
        },
        "id": "TZ1ucHeRl67H",
        "outputId": "0cc3f66d-1942-4ac8-c235-115abd552d9a"
      },
      "source": [
        "l[2]=(2,4)\n",
        "print(l,a,b)\n",
        "print(c,d)"
      ],
      "execution_count": null,
      "outputs": [
        {
          "output_type": "stream",
          "text": [
            "[1, 2, (2, 4), [1, 2, 5], 'c'] [1, 2, (2, 4), [1, 2, 5], 'c'] [1, 2, (2, 3), [1, 2, 5], 'c']\n",
            "[1, 2, (2, 3), [1, 2, 5], 'c'] [1, 2, (2, 3), [1, 2, 5], 'c']\n"
          ],
          "name": "stdout"
        }
      ]
    },
    {
      "cell_type": "code",
      "metadata": {
        "colab": {
          "base_uri": "https://localhost:8080/"
        },
        "id": "iR5kpLkRmcgT",
        "outputId": "5e05a61f-294f-40b7-cec6-6913a571bd8a"
      },
      "source": [
        "l.append(3)\n",
        "print(l,a,b)\n",
        "print(c,d)\n",
        "#修改l中的父对象，b,c,d不变"
      ],
      "execution_count": null,
      "outputs": [
        {
          "output_type": "stream",
          "text": [
            "[1, 2, (2, 4), [1, 2, 5], 'c', 3] [1, 2, (2, 4), [1, 2, 5], 'c', 3] [1, 2, (2, 3), [1, 2, 5], 'c']\n",
            "[1, 2, (2, 3), [1, 2, 5], 'c'] [1, 2, (2, 3), [1, 2, 5], 'c']\n"
          ],
          "name": "stdout"
        }
      ]
    },
    {
      "cell_type": "code",
      "metadata": {
        "colab": {
          "base_uri": "https://localhost:8080/"
        },
        "id": "cE-stE47nC5p",
        "outputId": "0874a479-987b-42fd-a252-d2840a2aa5f4"
      },
      "source": [
        "l[3].append(4)\n",
        "print(l,a,b)\n",
        "print(c,d)\n",
        "#修改l中的子对象，b,c改变，d不变"
      ],
      "execution_count": null,
      "outputs": [
        {
          "output_type": "stream",
          "text": [
            "[1, 2, (2, 4), [1, 2, 5, 4], 'c', 3] [1, 2, (2, 4), [1, 2, 5, 4], 'c', 3] [1, 2, (2, 3), [1, 2, 5, 4], 'c']\n",
            "[1, 2, (2, 3), [1, 2, 5, 4], 'c'] [1, 2, (2, 3), [1, 2, 5], 'c']\n"
          ],
          "name": "stdout"
        }
      ]
    },
    {
      "cell_type": "code",
      "metadata": {
        "colab": {
          "base_uri": "https://localhost:8080/"
        },
        "id": "itzyQFRGqF4j",
        "outputId": "74c30889-87ca-478b-a87d-15aa53732aaa"
      },
      "source": [
        "b==c\n",
        "#b和c是等价的"
      ],
      "execution_count": null,
      "outputs": [
        {
          "output_type": "execute_result",
          "data": {
            "text/plain": [
              "True"
            ]
          },
          "metadata": {
            "tags": []
          },
          "execution_count": 18
        }
      ]
    },
    {
      "cell_type": "markdown",
      "metadata": {
        "id": "TrWyqLDloZdK"
      },
      "source": [
        "**浅拷贝，子变父不变**"
      ]
    },
    {
      "cell_type": "markdown",
      "metadata": {
        "id": "PPtpd8gLqYdz"
      },
      "source": [
        "# **2.1列表**"
      ]
    },
    {
      "cell_type": "markdown",
      "metadata": {
        "id": "IbsAVsmuqdUG"
      },
      "source": [
        "**2.1.1列表的常用方法**"
      ]
    },
    {
      "cell_type": "code",
      "metadata": {
        "colab": {
          "base_uri": "https://localhost:8080/"
        },
        "id": "i4ZgtGWUqqgK",
        "outputId": "27d589f0-411d-4923-86ba-9d8544b11d82"
      },
      "source": [
        "l=[1,2,3,4]\n",
        "l.append(5)\n",
        "print(l)\n",
        "#将元素x添加至列表尾部\n",
        "l.extend([7,8])\n",
        "print(l)\n",
        "#将列表L中所有元素添加至列表尾部\n",
        "l.insert(3,10)\n",
        "print(l)\n",
        "#在列表指定位置index处添加元素x\n",
        "l.remove(1)\n",
        "print(l)\n",
        "#在列表中删除首次出现的指定元素\n",
        "l.pop(3)\n",
        "print(l)\n",
        "#删除并返回列表对象指定位置的元素\n",
        "print(l.index(2))\n",
        "#返回值为x的首个元素的下标\n",
        "print(l.count(2))\n",
        "#返回指定元素x在列表中的出现次数\n",
        "l.reverse()\n",
        "print(l)\n",
        "#对列表元素进行原地逆序\n",
        "l.sort()\n",
        "print(l)\n",
        "#对列表元素进行原地排序"
      ],
      "execution_count": null,
      "outputs": [
        {
          "output_type": "stream",
          "text": [
            "[1, 2, 3, 4, 5]\n",
            "[1, 2, 3, 4, 5, 7, 8]\n",
            "[1, 2, 3, 10, 4, 5, 7, 8]\n",
            "[2, 3, 10, 4, 5, 7, 8]\n",
            "[2, 3, 10, 5, 7, 8]\n",
            "0\n",
            "1\n",
            "[8, 7, 5, 10, 3, 2]\n",
            "[2, 3, 5, 7, 8, 10]\n"
          ],
          "name": "stdout"
        }
      ]
    },
    {
      "cell_type": "markdown",
      "metadata": {
        "id": "bV7dVf7-tz0t"
      },
      "source": [
        "**2.1.2列表切片**"
      ]
    },
    {
      "cell_type": "markdown",
      "metadata": {
        "id": "Ug_PKBP-t_wj"
      },
      "source": [
        "Python序列的重要操作之一，适用于列表、元组、字符串、range对象等类型。<br/>\n",
        ">1.可以使用切片来截取列表中的任何部分  \n",
        ">2.可以通过切片来修改和删除列表中部分元素  \n",
        ">3.可以通过切片操作为增加元素</br>"
      ]
    },
    {
      "cell_type": "code",
      "metadata": {
        "colab": {
          "base_uri": "https://localhost:8080/"
        },
        "id": "8OYDpJu5vwCU",
        "outputId": "52fd6be7-6fd8-4f2a-bfc5-356e98b082ca"
      },
      "source": [
        "l=[1,2,3,4]\n",
        "#正向切片\n",
        "print(l[0:])\n",
        "print(l[1:3])\n",
        "#逆向切片\n",
        "print(l[-2::-1])\n",
        "print(l[::-1])"
      ],
      "execution_count": null,
      "outputs": [
        {
          "output_type": "stream",
          "text": [
            "[1, 2, 3, 4]\n",
            "[2, 3]\n",
            "[3, 2, 1]\n",
            "[4, 3, 2, 1]\n"
          ],
          "name": "stdout"
        }
      ]
    },
    {
      "cell_type": "code",
      "metadata": {
        "id": "tMbbTWJgwlJ-"
      },
      "source": [
        ""
      ],
      "execution_count": null,
      "outputs": []
    },
    {
      "cell_type": "markdown",
      "metadata": {
        "id": "ZOSuL1_juS8v"
      },
      "source": [
        "**2.1.3列表推导式**"
      ]
    },
    {
      "cell_type": "markdown",
      "metadata": {
        "id": "mGZ0_YQ9uYRD"
      },
      "source": [
        "列表推导式优点：</br>\n",
        ">1.Python程序开发时应用最多的技术之一</br>\n",
        ">2.使用列表推导式快速生成多个随机数的列表</br>\n",
        ">3.用非常简洁的方式快速生成满足特定需求的列表，代码具有非常强的可读性"
      ]
    },
    {
      "cell_type": "markdown",
      "metadata": {
        "id": "FhjQfhgLu-3M"
      },
      "source": [
        "列表推导式应用：</br>\n",
        ">1.实现嵌套列表的平铺</br>\n",
        ">2.列出当前文件夹中的所有python源文件</br>\n",
        ">3.过滤出不符合条件的元素"
      ]
    },
    {
      "cell_type": "markdown",
      "metadata": {
        "id": "y9EwaYiYvkkm"
      },
      "source": [
        "**2.2元组**"
      ]
    },
    {
      "cell_type": "markdown",
      "metadata": {
        "id": "2pqaoD-9xWED"
      },
      "source": [
        "元组和列表相似：</br>\n",
        ">1.属于不可变序列</br>\n",
        ">2.元组一旦创建，用任何方法都不可以修改其元素</br>\n",
        ">3.元组的定义方式和列表相同</br>\n",
        "所有元素都是放在一对圆括号()里"
      ]
    },
    {
      "cell_type": "markdown",
      "metadata": {
        "id": "foZC41iVyHtl"
      },
      "source": [
        "2.2.1元组与列表的区别："
      ]
    },
    {
      "cell_type": "markdown",
      "metadata": {
        "id": "YCfcbKJgyiez"
      },
      "source": [
        ">1.元组中的数据一旦定义就不允许更改。</br>\n",
        ">2.元组没有append()、extend()和insert()等方法，无法向元组中添加元素；</br>\n",
        ">3.**元组没有remove()或pop()方法，也无法对元组元素进行del操作，不能从元组中删除元素**。</br>\n",
        ">4.内建的tuple( )函数接受一个列表参数，并返回一个包含同样元素的元组，而list( )函数接受一个元组参数并返回一个列表。从效果上看，tuple( )冻结列表，而list( )融化元组。</br>"
      ]
    },
    {
      "cell_type": "markdown",
      "metadata": {
        "id": "r2VIKkHbzJvD"
      },
      "source": [
        "2.2.2**元组的优点**</br>\n",
        ">1.元组的速度比列表更快。如果定义了一系列常量值，而所需做的仅是对它进行遍历，那么一般使用元组而不用列表。</br>\n",
        ">2.元组对不需要改变的数据进行“写保护”将使得代码更加安全。</br>\n",
        ">3.元组可用作字典键（特别是包含字符串、数值和其它元组这样的不可变数据的元组）。列表永远不能当做字典键使用，因为列表不是不可变的。"
      ]
    },
    {
      "cell_type": "markdown",
      "metadata": {
        "id": "evr4Bkygzv2F"
      },
      "source": [
        "**2.2.3元组的序列解包**\n",
        ">1.可以使用序列解包功能对多个变量同时赋值</br>\n",
        ">2.序列解包对于列表和字典同样有效"
      ]
    },
    {
      "cell_type": "code",
      "metadata": {
        "colab": {
          "base_uri": "https://localhost:8080/",
          "height": 185
        },
        "id": "WGoQoBVRs_cN",
        "outputId": "532c8b5e-0cfd-40d0-a5d6-d57880abb7bc"
      },
      "source": [
        "t = (1,2,3,4)\n",
        "t[2]=5\n",
        "#元组元素不能更改"
      ],
      "execution_count": null,
      "outputs": [
        {
          "output_type": "error",
          "ename": "TypeError",
          "evalue": "ignored",
          "traceback": [
            "\u001b[0;31m---------------------------------------------------------------------------\u001b[0m",
            "\u001b[0;31mTypeError\u001b[0m                                 Traceback (most recent call last)",
            "\u001b[0;32m<ipython-input-45-cb593cacb236>\u001b[0m in \u001b[0;36m<module>\u001b[0;34m()\u001b[0m\n\u001b[1;32m      1\u001b[0m \u001b[0mt\u001b[0m \u001b[0;34m=\u001b[0m \u001b[0;34m(\u001b[0m\u001b[0;36m1\u001b[0m\u001b[0;34m,\u001b[0m\u001b[0;36m2\u001b[0m\u001b[0;34m,\u001b[0m\u001b[0;36m3\u001b[0m\u001b[0;34m,\u001b[0m\u001b[0;36m4\u001b[0m\u001b[0;34m)\u001b[0m\u001b[0;34m\u001b[0m\u001b[0;34m\u001b[0m\u001b[0m\n\u001b[0;32m----> 2\u001b[0;31m \u001b[0mt\u001b[0m\u001b[0;34m[\u001b[0m\u001b[0;36m2\u001b[0m\u001b[0;34m]\u001b[0m\u001b[0;34m=\u001b[0m\u001b[0;36m5\u001b[0m\u001b[0;34m\u001b[0m\u001b[0;34m\u001b[0m\u001b[0m\n\u001b[0m",
            "\u001b[0;31mTypeError\u001b[0m: 'tuple' object does not support item assignment"
          ]
        }
      ]
    },
    {
      "cell_type": "markdown",
      "metadata": {
        "id": "9vCPyyFs0h96"
      },
      "source": [
        "**2.2.4 生成器推导式**\n",
        ">1.生成器推导式使用圆括号，列表推导式使用方括号</br>\n",
        ">2.生成器推导式的结果是一个生成器对象，不是列表或元组</br>\n",
        ">3.生成器对象的元素可根据需要转化为列表或元组</br>\n",
        ">4.可以使用生成器对象的next()方法进行遍历</br>\n",
        ">5.可以直接将其作为迭代器对象来使用。</br>\n",
        ">6.不管用哪种方法访问其元素，当所有元素访问结束以后，如果需要重新访问其中的元素，必须重新创建该生成器对象。"
      ]
    },
    {
      "cell_type": "markdown",
      "metadata": {
        "id": "DOizkik11GQQ"
      },
      "source": [
        "**2.3字典**"
      ]
    },
    {
      "cell_type": "markdown",
      "metadata": {
        "id": "KIRVU55L5vCL"
      },
      "source": [
        ">1.字典是键值对的无序可变集合</br>\n",
        ">2.字典元素的键和值用冒号分隔，元素之间用逗号分隔，所有的元素放在一对大括号“｛”和“｝”中</br>\n",
        ">3.字典中的每个元素包含两部分：键和值，向字典添加一个键的同时，必须为该键增添一个值。</br>\n",
        ">4.字典中的键可以为任意不可变数据</br>\n",
        ">5.字典中的键不允许重复</br>\n",
        ">6.globals()返回包含当前作用域内所有全局变量和值的字典</br>\n",
        ">7.locals()返回包含当前作用域内所有局部变量和值的字典"
      ]
    },
    {
      "cell_type": "code",
      "metadata": {
        "id": "3WKghIIL5oPm",
        "colab": {
          "base_uri": "https://localhost:8080/"
        },
        "outputId": "a92acafe-3385-4a29-a6f2-b82c3cc397dd"
      },
      "source": [
        "d = {'a':1,'b':2,'c':3}\n",
        "print(d.items())\n",
        "print(d.values())\n",
        "print(d.keys())\n",
        "print(d.get('d',4))\n",
        "print(d.get('d'))\n",
        "print(d)"
      ],
      "execution_count": 14,
      "outputs": [
        {
          "output_type": "stream",
          "text": [
            "dict_items([('a', 1), ('b', 2), ('c', 3)])\n",
            "dict_values([1, 2, 3])\n",
            "dict_keys(['a', 'b', 'c'])\n",
            "4\n",
            "None\n",
            "{'a': 1, 'b': 2, 'c': 3}\n"
          ],
          "name": "stdout"
        }
      ]
    },
    {
      "cell_type": "markdown",
      "metadata": {
        "id": "vIlTICwOteYA"
      },
      "source": [
        "2.3.1字典创建与删除\n",
        ">1.使用=将一个字典赋值给一个变量</br>\n",
        ">2.使用dict利用已有数据创建字典：</br>\n",
        ">3.使用dict根据给定的键、值创建字典</br>\n",
        ">4.以给定内容为键，创建值为空的字典</br>\n",
        ">5.使用del删除整个字典</br>\n"
      ]
    },
    {
      "cell_type": "markdown",
      "metadata": {
        "id": "vQ8J2YLOuvd1"
      },
      "source": [
        "2.3.2字典元素的读取\n",
        ">1.以键作为下标可以读取字典元素，若键不存在则抛出异常</br>\n",
        ">2.使用字典对象的get方法获取指定键对应的值，并且可以在键不存在的时候返回指定值。</br>\n",
        ">3.使用字典对象的items方法可以返回字典的键、值对列表</br>\n",
        ">4.使用字典对象的keys方法可以返回字典的键列表</br>\n",
        ">5.使用字典对象的values方法可以返回字典的值列表</br>"
      ]
    },
    {
      "cell_type": "markdown",
      "metadata": {
        "id": "pCljBzpxvsct"
      },
      "source": [
        "2.3.3字典元素的添加与修改\n",
        ">1.当以指定键为下标为字典赋值时，若键存在，则可以修改该键的值；若不存在，则表示添加一个键、值对</br>\n",
        ">2.使用字典对象的update方法将另一个字典的键、值对添加到当前字典对象</br>\n",
        ">3.使用del删除字典中指定键的元素</br>\n",
        ">4.使用字典对象的clear方法来删除字典中所有元素</br>\n",
        ">5.使用字典对象的pop 方法删除并返回指定键的元素</br>\n",
        ">6.使用字典对象的popitem方法删除并返回字典中的元素"
      ]
    },
    {
      "cell_type": "markdown",
      "metadata": {
        "id": "wMblU_T0wVl7"
      },
      "source": [
        "2.4集合\n",
        ">1.无序可变集合</br>\n",
        ">2.使用一对大括号界定</br>\n",
        ">3.元素不可重复</br>"
      ]
    },
    {
      "cell_type": "markdown",
      "metadata": {
        "id": "iCQ9iBQuw0wl"
      },
      "source": [
        "2.4.1集合的创建于删除\n",
        ">1.直接将集合赋值给变量</br>\n",
        ">2.使用del删除整个集合</br>\n",
        ">3.使用集合对象的pop()方法</br>\n",
        ">4.使用集合对象的remove()方法</br>\n",
        ">5.使用集合对象的clear()方法清空集合\n"
      ]
    },
    {
      "cell_type": "markdown",
      "metadata": {
        "id": "UlBs3-ZBxInN"
      },
      "source": [
        "2.4.2集合操作\n",
        ">1.交集、并集、差集等运算</br>\n",
        ">2.使用集合快速提取序列中单一元素\n"
      ]
    },
    {
      "cell_type": "markdown",
      "metadata": {
        "id": "RCD7tYZIxWJV"
      },
      "source": [
        ""
      ]
    },
    {
      "cell_type": "markdown",
      "metadata": {
        "id": "O5VdRjrGtcYu"
      },
      "source": [
        ""
      ]
    }
  ]
}